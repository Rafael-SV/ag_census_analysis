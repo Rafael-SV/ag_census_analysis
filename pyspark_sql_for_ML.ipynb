{
 "cells": [
  {
   "cell_type": "code",
   "execution_count": 1,
   "metadata": {},
   "outputs": [],
   "source": [
    "import pandas as pd\n",
    "import numpy as np\n",
    "import pickle\n",
    "import re\n",
    "import pyarrow.parquet as pq\n",
    "from pyspark.sql import SparkSession\n",
    "\n",
    "spark = SparkSession \\\n",
    "    .builder \\\n",
    "    .appName('Python Spark SQL basic example') \\\n",
    "    .config('spark.some.config.option', 'some-value') \\\n",
    "    .getOrCreate()\n",
    "\n",
    "pd.set_option('display.max_columns', 40)\n",
    "pd.set_option('display.max_rows', 5000)\n"
   ]
  },
  {
   "cell_type": "code",
   "execution_count": 2,
   "metadata": {},
   "outputs": [],
   "source": [
    "df_2002 = spark.read.parquet('census_02.parquet')\n",
    "#df_2007 = spark.read.load('census_07.parquet')\n",
    "#df_2012 = spark.read.load('census_12.parquet')\n",
    "#df_2002.limit(5).toPandas().head()"
   ]
  },
  {
   "cell_type": "code",
   "execution_count": 3,
   "metadata": {},
   "outputs": [],
   "source": [
    "df_2002 = spark.read.parquet(\"census_02.parquet\")\n",
    "\n",
    "# Parquet files can also be used to create a temporary view and then used in SQL statements.\n",
    "df_2002.createOrReplaceTempView(\"df_2002\")"
   ]
  },
  {
   "cell_type": "code",
   "execution_count": 4,
   "metadata": {},
   "outputs": [
    {
     "name": "stdout",
     "output_type": "stream",
     "text": [
      "['GROUP_DESC,', 'COMMODITY_DESC,', 'CLASS_DESC,', 'PRODN_PRACTICE_DESC,', 'UTIL_PRACTICE_DESC,', 'STATISTICCAT_DESC,', 'UNIT_DESC,', 'SHORT_DESC,', 'DOMAIN_DESC,', 'VALUE']\n"
     ]
    }
   ],
   "source": [
    "interesting_column_str = 'GROUP_DESC, COMMODITY_DESC, CLASS_DESC, PRODN_PRACTICE_DESC, UTIL_PRACTICE_DESC, STATISTICCAT_DESC, UNIT_DESC, \\\n",
    "SHORT_DESC, DOMAIN_DESC, VALUE'\n",
    "interesting_column_list = str.split(interesting_column_str)\n",
    "print(interesting_column_list)"
   ]
  },
  {
   "cell_type": "code",
   "execution_count": null,
   "metadata": {},
   "outputs": [],
   "source": [
    "only_crops_2002_df = spark.sql(\"SELECT {} FROM df_2002 WHERE SECTOR_DESC='CROPS'\".format(interesting_column_str))\n",
    "only_crops_2002_df.createOrReplaceTempView(\"only_crops_2002_df\")"
   ]
  },
  {
   "cell_type": "code",
   "execution_count": null,
   "metadata": {},
   "outputs": [],
   "source": [
    "check_output_df = spark.sql(\"SELECT DISTINCT COMMODITY_DESC FROM only_crops_2002_df\")\n",
    "check_output_df.take(100000)"
   ]
  },
  {
   "cell_type": "code",
   "execution_count": null,
   "metadata": {},
   "outputs": [],
   "source": [
    "for index, item in enumerate(interesting_column_list):   "
   ]
  },
  {
   "cell_type": "code",
   "execution_count": 17,
   "metadata": {
    "collapsed": true
   },
   "outputs": [
    {
     "data": {
      "text/html": [
       "<div>\n",
       "<style scoped>\n",
       "    .dataframe tbody tr th:only-of-type {\n",
       "        vertical-align: middle;\n",
       "    }\n",
       "\n",
       "    .dataframe tbody tr th {\n",
       "        vertical-align: top;\n",
       "    }\n",
       "\n",
       "    .dataframe thead th {\n",
       "        text-align: right;\n",
       "    }\n",
       "</style>\n",
       "<table border=\"1\" class=\"dataframe\">\n",
       "  <thead>\n",
       "    <tr style=\"text-align: right;\">\n",
       "      <th></th>\n",
       "      <th>GROUP_DESC</th>\n",
       "      <th>COMMODITY_DESC</th>\n",
       "      <th>CLASS_DESC</th>\n",
       "      <th>PRODN_PRACTICE_DESC</th>\n",
       "      <th>UTIL_PRACTICE_DESC</th>\n",
       "      <th>STATISTICCAT_DESC</th>\n",
       "      <th>UNIT_DESC</th>\n",
       "      <th>SHORT_DESC</th>\n",
       "      <th>DOMAIN_DESC</th>\n",
       "      <th>VALUE</th>\n",
       "    </tr>\n",
       "  </thead>\n",
       "  <tbody>\n",
       "    <tr>\n",
       "      <th>737326</th>\n",
       "      <td>FIELD CROPS</td>\n",
       "      <td>GRAIN STORAGE CAPACITY</td>\n",
       "      <td>ALL CLASSES</td>\n",
       "      <td>ALL PRODUCTION PRACTICES</td>\n",
       "      <td>ON FARM</td>\n",
       "      <td>CAPACITY</td>\n",
       "      <td>OPERATIONS</td>\n",
       "      <td>GRAIN STORAGE CAPACITY, ON FARM - OPERATIONS W...</td>\n",
       "      <td>AREA CROPLAND, HARVESTED</td>\n",
       "      <td>14,830</td>\n",
       "    </tr>\n",
       "    <tr>\n",
       "      <th>737327</th>\n",
       "      <td>FIELD CROPS</td>\n",
       "      <td>GRAIN STORAGE CAPACITY</td>\n",
       "      <td>ALL CLASSES</td>\n",
       "      <td>ALL PRODUCTION PRACTICES</td>\n",
       "      <td>ON FARM</td>\n",
       "      <td>CAPACITY</td>\n",
       "      <td>BU</td>\n",
       "      <td>GRAIN STORAGE CAPACITY, ON FARM - CAPACITY, ME...</td>\n",
       "      <td>AREA CROPLAND, HARVESTED</td>\n",
       "      <td>2,146,607,911</td>\n",
       "    </tr>\n",
       "    <tr>\n",
       "      <th>737328</th>\n",
       "      <td>FIELD CROPS</td>\n",
       "      <td>GRAIN STORAGE CAPACITY</td>\n",
       "      <td>ALL CLASSES</td>\n",
       "      <td>ALL PRODUCTION PRACTICES</td>\n",
       "      <td>ON FARM</td>\n",
       "      <td>CAPACITY</td>\n",
       "      <td>OPERATIONS</td>\n",
       "      <td>GRAIN STORAGE CAPACITY, ON FARM - OPERATIONS W...</td>\n",
       "      <td>AREA CROPLAND, HARVESTED</td>\n",
       "      <td>16,211</td>\n",
       "    </tr>\n",
       "    <tr>\n",
       "      <th>737329</th>\n",
       "      <td>FIELD CROPS</td>\n",
       "      <td>GRAIN STORAGE CAPACITY</td>\n",
       "      <td>ALL CLASSES</td>\n",
       "      <td>ALL PRODUCTION PRACTICES</td>\n",
       "      <td>ON FARM</td>\n",
       "      <td>CAPACITY</td>\n",
       "      <td>BU</td>\n",
       "      <td>GRAIN STORAGE CAPACITY, ON FARM - CAPACITY, ME...</td>\n",
       "      <td>AREA CROPLAND, HARVESTED</td>\n",
       "      <td>384,986,549</td>\n",
       "    </tr>\n",
       "    <tr>\n",
       "      <th>737330</th>\n",
       "      <td>FIELD CROPS</td>\n",
       "      <td>GRAIN STORAGE CAPACITY</td>\n",
       "      <td>ALL CLASSES</td>\n",
       "      <td>ALL PRODUCTION PRACTICES</td>\n",
       "      <td>ON FARM</td>\n",
       "      <td>CAPACITY</td>\n",
       "      <td>OPERATIONS</td>\n",
       "      <td>GRAIN STORAGE CAPACITY, ON FARM - OPERATIONS W...</td>\n",
       "      <td>AREA CROPLAND, HARVESTED</td>\n",
       "      <td>1,381</td>\n",
       "    </tr>\n",
       "  </tbody>\n",
       "</table>\n",
       "</div>"
      ],
      "text/plain": [
       "         GROUP_DESC          COMMODITY_DESC   CLASS_DESC  \\\n",
       "737326  FIELD CROPS  GRAIN STORAGE CAPACITY  ALL CLASSES   \n",
       "737327  FIELD CROPS  GRAIN STORAGE CAPACITY  ALL CLASSES   \n",
       "737328  FIELD CROPS  GRAIN STORAGE CAPACITY  ALL CLASSES   \n",
       "737329  FIELD CROPS  GRAIN STORAGE CAPACITY  ALL CLASSES   \n",
       "737330  FIELD CROPS  GRAIN STORAGE CAPACITY  ALL CLASSES   \n",
       "\n",
       "             PRODN_PRACTICE_DESC UTIL_PRACTICE_DESC STATISTICCAT_DESC  \\\n",
       "737326  ALL PRODUCTION PRACTICES            ON FARM          CAPACITY   \n",
       "737327  ALL PRODUCTION PRACTICES            ON FARM          CAPACITY   \n",
       "737328  ALL PRODUCTION PRACTICES            ON FARM          CAPACITY   \n",
       "737329  ALL PRODUCTION PRACTICES            ON FARM          CAPACITY   \n",
       "737330  ALL PRODUCTION PRACTICES            ON FARM          CAPACITY   \n",
       "\n",
       "         UNIT_DESC                                         SHORT_DESC  \\\n",
       "737326  OPERATIONS  GRAIN STORAGE CAPACITY, ON FARM - OPERATIONS W...   \n",
       "737327          BU  GRAIN STORAGE CAPACITY, ON FARM - CAPACITY, ME...   \n",
       "737328  OPERATIONS  GRAIN STORAGE CAPACITY, ON FARM - OPERATIONS W...   \n",
       "737329          BU  GRAIN STORAGE CAPACITY, ON FARM - CAPACITY, ME...   \n",
       "737330  OPERATIONS  GRAIN STORAGE CAPACITY, ON FARM - OPERATIONS W...   \n",
       "\n",
       "                     DOMAIN_DESC          VALUE  \n",
       "737326  AREA CROPLAND, HARVESTED         14,830  \n",
       "737327  AREA CROPLAND, HARVESTED  2,146,607,911  \n",
       "737328  AREA CROPLAND, HARVESTED         16,211  \n",
       "737329  AREA CROPLAND, HARVESTED    384,986,549  \n",
       "737330  AREA CROPLAND, HARVESTED          1,381  "
      ]
     },
     "execution_count": 17,
     "metadata": {},
     "output_type": "execute_result"
    }
   ],
   "source": [
    "only_crops_2002_df.toPandas().tail()"
   ]
  }
 ],
 "metadata": {
  "kernelspec": {
   "display_name": "Python 3",
   "language": "python",
   "name": "python3"
  },
  "language_info": {
   "codemirror_mode": {
    "name": "ipython",
    "version": 3
   },
   "file_extension": ".py",
   "mimetype": "text/x-python",
   "name": "python",
   "nbconvert_exporter": "python",
   "pygments_lexer": "ipython3",
   "version": "3.7.0"
  }
 },
 "nbformat": 4,
 "nbformat_minor": 2
}
